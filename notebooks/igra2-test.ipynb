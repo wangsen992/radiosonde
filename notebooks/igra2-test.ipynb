{
 "cells": [
  {
   "cell_type": "code",
   "execution_count": 1,
   "metadata": {},
   "outputs": [],
   "source": [
    "%pwd\n",
    "%load_ext autoreload\n",
    "%autoreload 2"
   ]
  },
  {
   "cell_type": "code",
   "execution_count": 37,
   "metadata": {},
   "outputs": [],
   "source": [
    "import pandas as pd\n",
    "from datetime import datetime\n",
    "from radiosonde.loader.igra2.igra2_loader import Igra2SondeLoader"
   ]
  },
  {
   "cell_type": "code",
   "execution_count": 41,
   "metadata": {},
   "outputs": [],
   "source": [
    "start_date = datetime(2020, 9, 12, 0, 0, 0)\n",
    "end_date   = datetime(2018, 9, 14)\n",
    "site_id_list = ['CAM00071802']\n",
    "dates = pd.date_range(\"2020-06-20\", \"2020-10-20\", freq='12H').to_pydatetime()"
   ]
  },
  {
   "cell_type": "code",
   "execution_count": 42,
   "metadata": {},
   "outputs": [],
   "source": [
    "loader = Igra2SondeLoader()"
   ]
  },
  {
   "cell_type": "code",
   "execution_count": null,
   "metadata": {},
   "outputs": [
    {
     "name": "stdout",
     "output_type": "stream",
     "text": [
      "Sonde at 2020-06-20 00:00:00 downloaded succesfully\n",
      "Sonde at 2020-06-20 12:00:00 downloaded succesfully\n",
      "Sonde at 2020-06-21 00:00:00 downloaded succesfully\n",
      "Sonde at 2020-06-21 12:00:00 downloaded succesfully\n",
      "Sonde at 2020-06-22 00:00:00 downloaded succesfully\n",
      "Sonde at 2020-06-22 12:00:00 downloaded succesfully\n",
      "Sonde at 2020-06-23 00:00:00 downloaded succesfully\n",
      "Sonde at 2020-06-23 12:00:00 downloaded succesfully\n",
      "Sonde at 2020-06-24 00:00:00 downloaded succesfully\n",
      "Sonde at 2020-06-24 12:00:00 downloaded succesfully\n",
      "Sonde at 2020-06-25 00:00:00 downloaded succesfully\n",
      "Sonde at 2020-06-25 12:00:00 downloaded succesfully\n",
      "Sonde at 2020-06-26 00:00:00 downloaded succesfully\n",
      "Sonde at 2020-06-26 12:00:00 downloaded succesfully\n",
      "Sonde at 2020-06-27 00:00:00 downloaded succesfully\n",
      "Sonde at 2020-06-27 12:00:00 downloaded succesfully\n",
      "Sonde at 2020-06-28 00:00:00 downloaded succesfully\n",
      "Sonde at 2020-06-28 12:00:00 downloaded succesfully\n",
      "Sonde at 2020-06-29 00:00:00 downloaded succesfully\n",
      "Sonde at 2020-06-29 12:00:00 downloaded succesfully\n",
      "Sonde at 2020-06-30 00:00:00 downloaded succesfully\n",
      "Sonde at 2020-06-30 12:00:00 downloaded succesfully\n",
      "Sonde at 2020-07-01 00:00:00 downloaded succesfully\n",
      "Sonde at 2020-07-01 12:00:00 downloaded succesfully\n",
      "Sonde at 2020-07-02 00:00:00 downloaded succesfully\n",
      "Sonde at 2020-07-02 12:00:00 downloaded succesfully\n",
      "Sonde at 2020-07-03 00:00:00 downloaded succesfully\n",
      "Sonde at 2020-07-03 12:00:00 downloaded succesfully\n",
      "Sonde at 2020-07-04 00:00:00 downloaded succesfully\n",
      "Sonde at 2020-07-04 12:00:00 downloaded succesfully\n",
      "Sonde at 2020-07-05 00:00:00 downloaded succesfully\n",
      "Sonde at 2020-07-05 12:00:00 downloaded succesfully\n",
      "Sonde at 2020-07-06 00:00:00 downloaded succesfully\n",
      "Sonde at 2020-07-06 12:00:00 downloaded succesfully\n",
      "Sonde at 2020-07-07 00:00:00 downloaded succesfully\n",
      "Sonde at 2020-07-07 12:00:00 downloaded succesfully\n",
      "Sonde at 2020-07-08 00:00:00 downloaded succesfully\n",
      "Sonde at 2020-07-08 12:00:00 downloaded succesfully\n",
      "Sonde at 2020-07-09 00:00:00 downloaded succesfully\n",
      "Sonde at 2020-07-09 12:00:00 downloaded succesfully\n",
      "Sonde at 2020-07-10 00:00:00 downloaded succesfully\n",
      "Sonde at 2020-07-10 12:00:00 downloaded succesfully\n",
      "Sonde at 2020-07-11 00:00:00 downloaded succesfully\n",
      "Sonde at 2020-07-11 12:00:00 downloaded succesfully\n",
      "Sonde at 2020-07-12 00:00:00 downloaded succesfully\n",
      "Sonde at 2020-07-12 12:00:00 downloaded succesfully\n",
      "Sonde at 2020-07-13 00:00:00 downloaded succesfully\n",
      "Sonde at 2020-07-13 12:00:00 downloaded succesfully\n",
      "Sonde at 2020-07-14 00:00:00 downloaded succesfully\n",
      "Sonde at 2020-07-14 12:00:00 downloaded succesfully\n",
      "Sonde at 2020-07-15 00:00:00 downloaded succesfully\n",
      "Sonde at 2020-07-15 12:00:00 downloaded succesfully\n",
      "Sonde at 2020-07-16 00:00:00 downloaded succesfully\n",
      "Sonde at 2020-07-16 12:00:00 downloaded succesfully\n",
      "Sonde at 2020-07-17 00:00:00 downloaded succesfully\n",
      "Sonde at 2020-07-17 12:00:00 downloaded succesfully\n",
      "Sonde at 2020-07-18 00:00:00 downloaded succesfully\n",
      "Sonde at 2020-07-18 12:00:00 downloaded succesfully\n",
      "Sonde at 2020-07-19 00:00:00 downloaded succesfully\n",
      "Sonde at 2020-07-19 12:00:00 downloaded succesfully\n",
      "Sonde at 2020-07-20 00:00:00 downloaded succesfully\n",
      "Sonde at 2020-07-20 12:00:00 downloaded succesfully\n",
      "Sonde at 2020-07-21 00:00:00 downloaded succesfully\n",
      "Sonde at 2020-07-21 12:00:00 downloaded succesfully\n",
      "Sonde at 2020-07-22 00:00:00 downloaded succesfully\n",
      "Sonde at 2020-07-22 12:00:00 downloaded succesfully\n",
      "Sonde at 2020-07-23 00:00:00 downloaded succesfully\n",
      "Sonde at 2020-07-23 12:00:00 downloaded succesfully\n",
      "Sonde at 2020-07-24 00:00:00 downloaded succesfully\n",
      "Sonde at 2020-07-24 12:00:00 downloaded succesfully\n",
      "Sonde at 2020-07-25 00:00:00 downloaded succesfully\n",
      "Sonde at 2020-07-25 12:00:00 downloaded succesfully\n",
      "Sonde at 2020-07-26 00:00:00 downloaded succesfully\n",
      "Sonde at 2020-07-26 12:00:00 downloaded succesfully\n",
      "Sonde at 2020-07-27 00:00:00 downloaded succesfully\n"
     ]
    }
   ],
   "source": [
    "sondes = loader.load_many(dates)"
   ]
  },
  {
   "cell_type": "code",
   "execution_count": null,
   "metadata": {},
   "outputs": [],
   "source": []
  }
 ],
 "metadata": {
  "kernelspec": {
   "display_name": "Python 3",
   "language": "python",
   "name": "python3"
  },
  "language_info": {
   "codemirror_mode": {
    "name": "ipython",
    "version": 3
   },
   "file_extension": ".py",
   "mimetype": "text/x-python",
   "name": "python",
   "nbconvert_exporter": "python",
   "pygments_lexer": "ipython3",
   "version": "3.8.2"
  }
 },
 "nbformat": 4,
 "nbformat_minor": 4
}

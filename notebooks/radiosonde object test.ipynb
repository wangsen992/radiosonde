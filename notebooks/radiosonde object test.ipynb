{
 "cells": [
  {
   "cell_type": "code",
   "execution_count": 1,
   "metadata": {},
   "outputs": [],
   "source": [
    "%pwd\n",
    "%load_ext autoreload\n",
    "%autoreload 2"
   ]
  },
  {
   "cell_type": "code",
   "execution_count": 2,
   "metadata": {},
   "outputs": [],
   "source": [
    "import configparser\n",
    "import pandas as pd\n",
    "import xarray as xr\n",
    "import matplotlib.pyplot as plt"
   ]
  },
  {
   "cell_type": "code",
   "execution_count": 7,
   "metadata": {},
   "outputs": [],
   "source": [
    "import radiosonde"
   ]
  },
  {
   "cell_type": "markdown",
   "metadata": {},
   "source": [
    "# Test on Sqlite3SondeLoader (Specifically for CFOG)"
   ]
  },
  {
   "cell_type": "code",
   "execution_count": 8,
   "metadata": {},
   "outputs": [],
   "source": [
    "from radiosonde import SQLite3SondeLoader"
   ]
  },
  {
   "cell_type": "code",
   "execution_count": 9,
   "metadata": {},
   "outputs": [
    {
     "data": {
      "text/plain": [
       "['/scratch365/swang18/Workspace/Areas/Research/C-FOG/config.d/overview.ini']"
      ]
     },
     "execution_count": 9,
     "metadata": {},
     "output_type": "execute_result"
    }
   ],
   "source": [
    "config = configparser.ConfigParser(interpolation=configparser.ExtendedInterpolation())\n",
    "config.read(\"/scratch365/swang18/Workspace/Areas/Research/C-FOG/config.d/overview.ini\")"
   ]
  },
  {
   "cell_type": "code",
   "execution_count": 10,
   "metadata": {},
   "outputs": [],
   "source": [
    "sonde_loader = SQLite3SondeLoader(config.get('Sharp', 'radiosonde'))"
   ]
  },
  {
   "cell_type": "code",
   "execution_count": 11,
   "metadata": {},
   "outputs": [],
   "source": [
    "avail_sondes = sonde_loader.available(criteria={'t_range': ('2018-09-12 05:00', '2018-09-15 20:00')})"
   ]
  },
  {
   "cell_type": "code",
   "execution_count": 12,
   "metadata": {},
   "outputs": [
    {
     "data": {
      "text/plain": [
       "LaunchTime     object\n",
       "startTime      object\n",
       "endTime        object\n",
       "minHeight     float64\n",
       "maxHeight     float64\n",
       "Latitude      float64\n",
       "Longitude     float64\n",
       "dropping        int64\n",
       "dtype: object"
      ]
     },
     "execution_count": 12,
     "metadata": {},
     "output_type": "execute_result"
    }
   ],
   "source": [
    "avail_sondes.dtypes"
   ]
  },
  {
   "cell_type": "code",
   "execution_count": 13,
   "metadata": {},
   "outputs": [
    {
     "data": {
      "text/plain": [
       "array(['2018-09-12 17:21:23.174774 UTC', '2018-09-12 17:21:23.174774 UTC',\n",
       "       '2018-09-12 20:15:31.8019 UTC', '2018-09-12 20:15:31.8019 UTC',\n",
       "       '2018-09-12 23:11:19.098899 UTC', '2018-09-12 23:11:19.098899 UTC',\n",
       "       '2018-09-13 01:00:13.102223 UTC', '2018-09-13 01:00:13.102223 UTC',\n",
       "       '2018-09-13 02:19:07.448403 UTC', '2018-09-13 02:19:07.448403 UTC',\n",
       "       '2018-09-13 05:19:56.172475 UTC', '2018-09-13 05:19:56.172475 UTC',\n",
       "       '2018-09-13 08:14:01.905403 UTC', '2018-09-13 08:14:01.905403 UTC',\n",
       "       '2018-09-13 11:30:57.024863 UTC', '2018-09-13 11:30:57.024863 UTC',\n",
       "       '2018-09-13 23:13:19.578148 UTC', '2018-09-13 23:13:19.578148 UTC',\n",
       "       '2018-09-14 11:14:03.19233 UTC', '2018-09-14 11:14:03.19233 UTC',\n",
       "       '2018-09-14 23:15:00.98318 UTC', '2018-09-14 23:15:00.98318 UTC',\n",
       "       '2018-09-15 11:22:28.253348 UTC', '2018-09-15 11:22:28.253348 UTC'],\n",
       "      dtype=object)"
      ]
     },
     "execution_count": 13,
     "metadata": {},
     "output_type": "execute_result"
    }
   ],
   "source": [
    "avail_sondes.loc[:,'LaunchTime'].values"
   ]
  },
  {
   "cell_type": "code",
   "execution_count": 30,
   "metadata": {},
   "outputs": [],
   "source": [
    "sonde = sonde_loader.load_one(avail_sondes['LaunchTime'].values[0])"
   ]
  },
  {
   "cell_type": "code",
   "execution_count": 28,
   "metadata": {},
   "outputs": [],
   "source": [
    "sondeList = sonde_loader.load_many(avail_sondes['LaunchTime'].values)"
   ]
  },
  {
   "cell_type": "code",
   "execution_count": 34,
   "metadata": {},
   "outputs": [
    {
     "data": {
      "text/plain": [
       "<SimpleDataFrameRadiosonde: BaseDatetime(2018, 9, 12, 17, 21, 23, 174774, tzinfo=None), GeoLocation(47.39499282836914, -52.55854797363281)>"
      ]
     },
     "execution_count": 34,
     "metadata": {},
     "output_type": "execute_result"
    }
   ],
   "source": [
    "sondeList[1]"
   ]
  },
  {
   "cell_type": "code",
   "execution_count": 36,
   "metadata": {},
   "outputs": [
    {
     "data": {
      "text/plain": [
       "<SimpleDataFrameRadiosonde: BaseDatetime(2018, 9, 12, 20, 15, 31, 801900, tzinfo=None), GeoLocation(47.769874572753906, -52.5853385925293)>"
      ]
     },
     "execution_count": 36,
     "metadata": {},
     "output_type": "execute_result"
    }
   ],
   "source": [
    "sondeList[3]"
   ]
  },
  {
   "cell_type": "code",
   "execution_count": null,
   "metadata": {},
   "outputs": [],
   "source": []
  }
 ],
 "metadata": {
  "kernelspec": {
   "display_name": "Python 3",
   "language": "python",
   "name": "python3"
  },
  "language_info": {
   "codemirror_mode": {
    "name": "ipython",
    "version": 3
   },
   "file_extension": ".py",
   "mimetype": "text/x-python",
   "name": "python",
   "nbconvert_exporter": "python",
   "pygments_lexer": "ipython3",
   "version": "3.8.2"
  }
 },
 "nbformat": 4,
 "nbformat_minor": 4
}

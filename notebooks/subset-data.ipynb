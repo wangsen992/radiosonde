{
 "cells": [
  {
   "cell_type": "code",
   "execution_count": 1,
   "metadata": {},
   "outputs": [],
   "source": [
    "%pwd\n",
    "%load_ext autoreload\n",
    "%autoreload 2"
   ]
  },
  {
   "cell_type": "code",
   "execution_count": 2,
   "metadata": {},
   "outputs": [],
   "source": [
    "import configparser\n",
    "import pandas as pd\n",
    "import xarray as xr\n",
    "import matplotlib.pyplot as plt"
   ]
  },
  {
   "cell_type": "code",
   "execution_count": 7,
   "metadata": {},
   "outputs": [],
   "source": [
    "import radiosonde"
   ]
  },
  {
   "cell_type": "markdown",
   "metadata": {},
   "source": [
    "# Test on Sqlite3SondeLoader (Specifically for CFOG)"
   ]
  },
  {
   "cell_type": "code",
   "execution_count": 8,
   "metadata": {},
   "outputs": [],
   "source": [
    "from radiosonde import SQLite3SondeLoader"
   ]
  },
  {
   "cell_type": "code",
   "execution_count": 9,
   "metadata": {},
   "outputs": [
    {
     "data": {
      "text/plain": [
       "['/scratch365/swang18/Workspace/Areas/Research/C-FOG/config.d/overview.ini']"
      ]
     },
     "execution_count": 9,
     "metadata": {},
     "output_type": "execute_result"
    }
   ],
   "source": [
    "config = configparser.ConfigParser(interpolation=configparser.ExtendedInterpolation())\n",
    "config.read(\"/scratch365/swang18/Workspace/Areas/Research/C-FOG/config.d/overview.ini\")"
   ]
  },
  {
   "cell_type": "code",
   "execution_count": 27,
   "metadata": {},
   "outputs": [],
   "source": [
    "sonde_loader = SQLite3SondeLoader(config.get('Sharp', 'radiosonde'))"
   ]
  },
  {
   "cell_type": "code",
   "execution_count": 28,
   "metadata": {},
   "outputs": [],
   "source": [
    "avail_sondes = sonde_loader.available(criteria={'t_range': ('2018-09-12 05:00', '2018-09-15 20:00')})"
   ]
  },
  {
   "cell_type": "code",
   "execution_count": 29,
   "metadata": {},
   "outputs": [
    {
     "data": {
      "text/plain": [
       "array(['2018-09-12T17:21:23.174774000', '2018-09-12T17:21:23.174774000',\n",
       "       '2018-09-12T20:15:31.801900000', '2018-09-12T20:15:31.801900000',\n",
       "       '2018-09-12T23:11:19.098899000', '2018-09-12T23:11:19.098899000',\n",
       "       '2018-09-13T01:00:13.102223000', '2018-09-13T01:00:13.102223000',\n",
       "       '2018-09-13T02:19:07.448403000', '2018-09-13T02:19:07.448403000',\n",
       "       '2018-09-13T05:19:56.172475000', '2018-09-13T05:19:56.172475000',\n",
       "       '2018-09-13T08:14:01.905403000', '2018-09-13T08:14:01.905403000',\n",
       "       '2018-09-13T11:30:57.024863000', '2018-09-13T11:30:57.024863000',\n",
       "       '2018-09-13T23:13:19.578148000', '2018-09-13T23:13:19.578148000',\n",
       "       '2018-09-14T11:14:03.192330000', '2018-09-14T11:14:03.192330000',\n",
       "       '2018-09-14T23:15:00.983180000', '2018-09-14T23:15:00.983180000',\n",
       "       '2018-09-15T11:22:28.253348000', '2018-09-15T11:22:28.253348000'],\n",
       "      dtype='datetime64[ns]')"
      ]
     },
     "execution_count": 29,
     "metadata": {},
     "output_type": "execute_result"
    }
   ],
   "source": [
    "avail_sondes.loc[:,'LaunchTime'].values"
   ]
  },
  {
   "cell_type": "code",
   "execution_count": 48,
   "metadata": {},
   "outputs": [],
   "source": [
    "time = avail_sondes.loc[3,'LaunchTime'].to_pydatetime()"
   ]
  },
  {
   "cell_type": "code",
   "execution_count": 49,
   "metadata": {},
   "outputs": [
    {
     "data": {
      "text/plain": [
       "'2018-09-12 20:15:31.801900'"
      ]
     },
     "execution_count": 49,
     "metadata": {},
     "output_type": "execute_result"
    }
   ],
   "source": [
    "time.strftime('%F %H:%M:%S.%f')"
   ]
  },
  {
   "cell_type": "code",
   "execution_count": 50,
   "metadata": {},
   "outputs": [
    {
     "name": "stdout",
     "output_type": "stream",
     "text": [
      "select * from sonde where LaunchTime='2018-09-12 20:15:31.801900'\n",
      "Empty DataFrame\n",
      "Columns: [timestamp, Pressure, Temperature, Humidity, WindDir, WindSpeed, WindNorth, WindEast, Height, WindInterpolated, Latitude, Longitude, North, East, Up, Altitude, Dropping, LaunchTime, LaunchLatitude, LaunchLongitude]\n",
      "Index: []\n"
     ]
    },
    {
     "ename": "IndexError",
     "evalue": "index 0 is out of bounds for axis 0 with size 0",
     "output_type": "error",
     "traceback": [
      "\u001b[0;31m---------------------------------------------------------------------------\u001b[0m",
      "\u001b[0;31mIndexError\u001b[0m                                Traceback (most recent call last)",
      "\u001b[0;32m<ipython-input-50-8641e43c4f6e>\u001b[0m in \u001b[0;36m<module>\u001b[0;34m\u001b[0m\n\u001b[0;32m----> 1\u001b[0;31m \u001b[0msonde\u001b[0m \u001b[0;34m=\u001b[0m \u001b[0msonde_loader\u001b[0m\u001b[0;34m.\u001b[0m\u001b[0mload_one\u001b[0m\u001b[0;34m(\u001b[0m\u001b[0mtime\u001b[0m\u001b[0;34m)\u001b[0m\u001b[0;34m\u001b[0m\u001b[0;34m\u001b[0m\u001b[0m\n\u001b[0m",
      "\u001b[0;32m/scratch365/swang18/Workspace/Projects/packages/radiosonde/src/radiosonde/loader/sqlite3_loader.py\u001b[0m in \u001b[0;36mload_one\u001b[0;34m(self, launchtime)\u001b[0m\n\u001b[1;32m     95\u001b[0m         \u001b[0mlaunch_time\u001b[0m \u001b[0;34m=\u001b[0m \u001b[0mlaunchtime\u001b[0m\u001b[0;34m\u001b[0m\u001b[0;34m\u001b[0m\u001b[0m\n\u001b[1;32m     96\u001b[0m         \u001b[0mprint\u001b[0m\u001b[0;34m(\u001b[0m\u001b[0mout\u001b[0m\u001b[0;34m)\u001b[0m\u001b[0;34m\u001b[0m\u001b[0;34m\u001b[0m\u001b[0m\n\u001b[0;32m---> 97\u001b[0;31m         \u001b[0mlaunch_lat\u001b[0m \u001b[0;34m=\u001b[0m \u001b[0mout\u001b[0m\u001b[0;34m[\u001b[0m\u001b[0;34m'LaunchLatitude'\u001b[0m\u001b[0;34m]\u001b[0m\u001b[0;34m.\u001b[0m\u001b[0mvalues\u001b[0m\u001b[0;34m[\u001b[0m\u001b[0;36m0\u001b[0m\u001b[0;34m]\u001b[0m\u001b[0;34m\u001b[0m\u001b[0;34m\u001b[0m\u001b[0m\n\u001b[0m\u001b[1;32m     98\u001b[0m         \u001b[0mlaunch_lon\u001b[0m \u001b[0;34m=\u001b[0m \u001b[0mout\u001b[0m\u001b[0;34m[\u001b[0m\u001b[0;34m'LaunchLongitude'\u001b[0m\u001b[0;34m]\u001b[0m\u001b[0;34m.\u001b[0m\u001b[0mvalues\u001b[0m\u001b[0;34m[\u001b[0m\u001b[0;36m0\u001b[0m\u001b[0;34m]\u001b[0m\u001b[0;34m\u001b[0m\u001b[0;34m\u001b[0m\u001b[0m\n\u001b[1;32m     99\u001b[0m         rds = Radiosonde(df=out.rename(columns=rename_dict),\n",
      "\u001b[0;31mIndexError\u001b[0m: index 0 is out of bounds for axis 0 with size 0"
     ]
    }
   ],
   "source": [
    "sonde = sonde_loader.load_one(time)"
   ]
  },
  {
   "cell_type": "code",
   "execution_count": 55,
   "metadata": {},
   "outputs": [],
   "source": [
    "cursor = sonde_loader.conn.execute(\"select * from sonde where LaunchTime='2018-09-12 20:15:31.801900'\")"
   ]
  },
  {
   "cell_type": "code",
   "execution_count": 56,
   "metadata": {},
   "outputs": [
    {
     "data": {
      "text/plain": [
       "[]"
      ]
     },
     "execution_count": 56,
     "metadata": {},
     "output_type": "execute_result"
    }
   ],
   "source": [
    "cursor.fetchall()"
   ]
  },
  {
   "cell_type": "code",
   "execution_count": 46,
   "metadata": {},
   "outputs": [
    {
     "ename": "IndexError",
     "evalue": "index 0 is out of bounds for axis 0 with size 0",
     "output_type": "error",
     "traceback": [
      "\u001b[0;31m---------------------------------------------------------------------------\u001b[0m",
      "\u001b[0;31mIndexError\u001b[0m                                Traceback (most recent call last)",
      "\u001b[0;32m<ipython-input-46-477a0defda5a>\u001b[0m in \u001b[0;36m<module>\u001b[0;34m\u001b[0m\n\u001b[0;32m----> 1\u001b[0;31m \u001b[0msonde_list\u001b[0m \u001b[0;34m=\u001b[0m \u001b[0msonde_loader\u001b[0m\u001b[0;34m.\u001b[0m\u001b[0mload_many\u001b[0m\u001b[0;34m(\u001b[0m\u001b[0;34m[\u001b[0m\u001b[0mt\u001b[0m\u001b[0;34m.\u001b[0m\u001b[0mto_pydatetime\u001b[0m\u001b[0;34m(\u001b[0m\u001b[0;34m)\u001b[0m \u001b[0;32mfor\u001b[0m \u001b[0mt\u001b[0m \u001b[0;32min\u001b[0m \u001b[0mavail_sondes\u001b[0m\u001b[0;34m[\u001b[0m\u001b[0;34m'LaunchTime'\u001b[0m\u001b[0;34m]\u001b[0m\u001b[0;34m]\u001b[0m\u001b[0;34m)\u001b[0m\u001b[0;34m\u001b[0m\u001b[0;34m\u001b[0m\u001b[0m\n\u001b[0m",
      "\u001b[0;32m/scratch365/swang18/Workspace/Projects/packages/radiosonde/src/radiosonde/loader/sqlite3_loader.py\u001b[0m in \u001b[0;36mload_many\u001b[0;34m(self, launchtime_list)\u001b[0m\n\u001b[1;32m    104\u001b[0m     \u001b[0;32mdef\u001b[0m \u001b[0mload_many\u001b[0m\u001b[0;34m(\u001b[0m\u001b[0mself\u001b[0m\u001b[0;34m,\u001b[0m \u001b[0mlaunchtime_list\u001b[0m\u001b[0;34m)\u001b[0m\u001b[0;34m:\u001b[0m\u001b[0;34m\u001b[0m\u001b[0;34m\u001b[0m\u001b[0m\n\u001b[1;32m    105\u001b[0m \u001b[0;34m\u001b[0m\u001b[0m\n\u001b[0;32m--> 106\u001b[0;31m         \u001b[0msonde_list\u001b[0m \u001b[0;34m=\u001b[0m \u001b[0;34m[\u001b[0m\u001b[0mself\u001b[0m\u001b[0;34m.\u001b[0m\u001b[0mload_one\u001b[0m\u001b[0;34m(\u001b[0m\u001b[0mt\u001b[0m\u001b[0;34m)\u001b[0m \u001b[0;32mfor\u001b[0m \u001b[0mt\u001b[0m \u001b[0;32min\u001b[0m \u001b[0mlaunchtime_list\u001b[0m\u001b[0;34m]\u001b[0m\u001b[0;34m\u001b[0m\u001b[0;34m\u001b[0m\u001b[0m\n\u001b[0m\u001b[1;32m    107\u001b[0m         \u001b[0;32mreturn\u001b[0m \u001b[0mRadiosondeList\u001b[0m\u001b[0;34m(\u001b[0m\u001b[0;34m)\u001b[0m\u001b[0;34m.\u001b[0m\u001b[0mextend\u001b[0m\u001b[0;34m(\u001b[0m\u001b[0msonde_list\u001b[0m\u001b[0;34m)\u001b[0m\u001b[0;34m\u001b[0m\u001b[0;34m\u001b[0m\u001b[0m\n\u001b[1;32m    108\u001b[0m \u001b[0;34m\u001b[0m\u001b[0m\n",
      "\u001b[0;32m/scratch365/swang18/Workspace/Projects/packages/radiosonde/src/radiosonde/loader/sqlite3_loader.py\u001b[0m in \u001b[0;36m<listcomp>\u001b[0;34m(.0)\u001b[0m\n\u001b[1;32m    104\u001b[0m     \u001b[0;32mdef\u001b[0m \u001b[0mload_many\u001b[0m\u001b[0;34m(\u001b[0m\u001b[0mself\u001b[0m\u001b[0;34m,\u001b[0m \u001b[0mlaunchtime_list\u001b[0m\u001b[0;34m)\u001b[0m\u001b[0;34m:\u001b[0m\u001b[0;34m\u001b[0m\u001b[0;34m\u001b[0m\u001b[0m\n\u001b[1;32m    105\u001b[0m \u001b[0;34m\u001b[0m\u001b[0m\n\u001b[0;32m--> 106\u001b[0;31m         \u001b[0msonde_list\u001b[0m \u001b[0;34m=\u001b[0m \u001b[0;34m[\u001b[0m\u001b[0mself\u001b[0m\u001b[0;34m.\u001b[0m\u001b[0mload_one\u001b[0m\u001b[0;34m(\u001b[0m\u001b[0mt\u001b[0m\u001b[0;34m)\u001b[0m \u001b[0;32mfor\u001b[0m \u001b[0mt\u001b[0m \u001b[0;32min\u001b[0m \u001b[0mlaunchtime_list\u001b[0m\u001b[0;34m]\u001b[0m\u001b[0;34m\u001b[0m\u001b[0;34m\u001b[0m\u001b[0m\n\u001b[0m\u001b[1;32m    107\u001b[0m         \u001b[0;32mreturn\u001b[0m \u001b[0mRadiosondeList\u001b[0m\u001b[0;34m(\u001b[0m\u001b[0;34m)\u001b[0m\u001b[0;34m.\u001b[0m\u001b[0mextend\u001b[0m\u001b[0;34m(\u001b[0m\u001b[0msonde_list\u001b[0m\u001b[0;34m)\u001b[0m\u001b[0;34m\u001b[0m\u001b[0;34m\u001b[0m\u001b[0m\n\u001b[1;32m    108\u001b[0m \u001b[0;34m\u001b[0m\u001b[0m\n",
      "\u001b[0;32m/scratch365/swang18/Workspace/Projects/packages/radiosonde/src/radiosonde/loader/sqlite3_loader.py\u001b[0m in \u001b[0;36mload_one\u001b[0;34m(self, launchtime)\u001b[0m\n\u001b[1;32m     94\u001b[0m         \u001b[0;31m# a dirty adaptor to load the radiosonde into  the required format\u001b[0m\u001b[0;34m\u001b[0m\u001b[0;34m\u001b[0m\u001b[0;34m\u001b[0m\u001b[0m\n\u001b[1;32m     95\u001b[0m         \u001b[0mlaunch_time\u001b[0m \u001b[0;34m=\u001b[0m \u001b[0mlaunchtime\u001b[0m\u001b[0;34m\u001b[0m\u001b[0;34m\u001b[0m\u001b[0m\n\u001b[0;32m---> 96\u001b[0;31m         \u001b[0mlaunch_lat\u001b[0m \u001b[0;34m=\u001b[0m \u001b[0mout\u001b[0m\u001b[0;34m[\u001b[0m\u001b[0;34m'LaunchLatitude'\u001b[0m\u001b[0;34m]\u001b[0m\u001b[0;34m.\u001b[0m\u001b[0mvalues\u001b[0m\u001b[0;34m[\u001b[0m\u001b[0;36m0\u001b[0m\u001b[0;34m]\u001b[0m\u001b[0;34m\u001b[0m\u001b[0;34m\u001b[0m\u001b[0m\n\u001b[0m\u001b[1;32m     97\u001b[0m         \u001b[0mlaunch_lon\u001b[0m \u001b[0;34m=\u001b[0m \u001b[0mout\u001b[0m\u001b[0;34m[\u001b[0m\u001b[0;34m'LaunchLongitude'\u001b[0m\u001b[0;34m]\u001b[0m\u001b[0;34m.\u001b[0m\u001b[0mvalues\u001b[0m\u001b[0;34m[\u001b[0m\u001b[0;36m0\u001b[0m\u001b[0;34m]\u001b[0m\u001b[0;34m\u001b[0m\u001b[0;34m\u001b[0m\u001b[0m\n\u001b[1;32m     98\u001b[0m         rds = Radiosonde(df=out.rename(columns=rename_dict),\n",
      "\u001b[0;31mIndexError\u001b[0m: index 0 is out of bounds for axis 0 with size 0"
     ]
    }
   ],
   "source": [
    "sonde_list = sonde_loader.load_many([t.to_pydatetime() for t in avail_sondes['LaunchTime']])"
   ]
  },
  {
   "cell_type": "code",
   "execution_count": 47,
   "metadata": {},
   "outputs": [
    {
     "data": {
      "text/plain": [
       "[datetime.datetime(2018, 9, 12, 17, 21, 23, 174774),\n",
       " datetime.datetime(2018, 9, 12, 17, 21, 23, 174774),\n",
       " datetime.datetime(2018, 9, 12, 20, 15, 31, 801900),\n",
       " datetime.datetime(2018, 9, 12, 20, 15, 31, 801900),\n",
       " datetime.datetime(2018, 9, 12, 23, 11, 19, 98899),\n",
       " datetime.datetime(2018, 9, 12, 23, 11, 19, 98899),\n",
       " datetime.datetime(2018, 9, 13, 1, 0, 13, 102223),\n",
       " datetime.datetime(2018, 9, 13, 1, 0, 13, 102223),\n",
       " datetime.datetime(2018, 9, 13, 2, 19, 7, 448403),\n",
       " datetime.datetime(2018, 9, 13, 2, 19, 7, 448403),\n",
       " datetime.datetime(2018, 9, 13, 5, 19, 56, 172475),\n",
       " datetime.datetime(2018, 9, 13, 5, 19, 56, 172475),\n",
       " datetime.datetime(2018, 9, 13, 8, 14, 1, 905403),\n",
       " datetime.datetime(2018, 9, 13, 8, 14, 1, 905403),\n",
       " datetime.datetime(2018, 9, 13, 11, 30, 57, 24863),\n",
       " datetime.datetime(2018, 9, 13, 11, 30, 57, 24863),\n",
       " datetime.datetime(2018, 9, 13, 23, 13, 19, 578148),\n",
       " datetime.datetime(2018, 9, 13, 23, 13, 19, 578148),\n",
       " datetime.datetime(2018, 9, 14, 11, 14, 3, 192330),\n",
       " datetime.datetime(2018, 9, 14, 11, 14, 3, 192330),\n",
       " datetime.datetime(2018, 9, 14, 23, 15, 0, 983180),\n",
       " datetime.datetime(2018, 9, 14, 23, 15, 0, 983180),\n",
       " datetime.datetime(2018, 9, 15, 11, 22, 28, 253348),\n",
       " datetime.datetime(2018, 9, 15, 11, 22, 28, 253348)]"
      ]
     },
     "execution_count": 47,
     "metadata": {},
     "output_type": "execute_result"
    }
   ],
   "source": [
    "[t.to_pydatetime() for t in avail_sondes['LaunchTime']]"
   ]
  },
  {
   "cell_type": "code",
   "execution_count": 68,
   "metadata": {},
   "outputs": [
    {
     "name": "stdout",
     "output_type": "stream",
     "text": [
      "42.81980895996094 -63.355403900146484 BaseDatetime(2018, 9, 3, 23, 11, 31, 625282, tzinfo=None)\n",
      "<class 'pint_pandas.pint_array.PintArray'>\n"
     ]
    }
   ],
   "source": [
    "# Test the accessor methods\n",
    "print(sonde.launch_lat, sonde.launch_lon, sonde.launch_time)\n",
    "print(type(sonde.height))"
   ]
  },
  {
   "cell_type": "code",
   "execution_count": 66,
   "metadata": {},
   "outputs": [
    {
     "data": {
      "image/png": "[encoded data removed]",
      "text/plain": [
       "<Figure size 288x432 with 1 Axes>"
      ]
     },
     "metadata": {
      "needs_background": "light"
     },
     "output_type": "display_data"
    }
   ],
   "source": [
    "fig, ax = plt.subplots(figsize=(4,6))\n",
    "ax.plot(sonde.dewpoint, sonde.pressure, label='dewpoint')\n",
    "ax.plot(sonde.temperature, sonde.pressure, label='temperature')\n",
    "ax.legend()\n",
    "ax.invert_yaxis()"
   ]
  }
 ],
 "metadata": {
  "kernelspec": {
   "display_name": "Python 3",
   "language": "python",
   "name": "python3"
  },
  "language_info": {
   "codemirror_mode": {
    "name": "ipython",
    "version": 3
   },
   "file_extension": ".py",
   "mimetype": "text/x-python",
   "name": "python",
   "nbconvert_exporter": "python",
   "pygments_lexer": "ipython3",
   "version": "3.8.2"
  }
 },
 "nbformat": 4,
 "nbformat_minor": 4
}

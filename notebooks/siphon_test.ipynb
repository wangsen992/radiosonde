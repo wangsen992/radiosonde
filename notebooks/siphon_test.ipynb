{
 "cells": [
  {
   "cell_type": "code",
   "execution_count": 4,
   "metadata": {},
   "outputs": [],
   "source": [
    "from datetime import datetime"
   ]
  },
  {
   "cell_type": "code",
   "execution_count": 1,
   "metadata": {},
   "outputs": [],
   "source": [
    "import radiosonde"
   ]
  },
  {
   "cell_type": "code",
   "execution_count": 2,
   "metadata": {},
   "outputs": [],
   "source": [
    "import siphon.simplewebservice.igra2 as igra2"
   ]
  },
  {
   "cell_type": "code",
   "execution_count": 3,
   "metadata": {},
   "outputs": [],
   "source": [
    "igra2_loader = igra2.IGRAUpperAir()"
   ]
  },
  {
   "cell_type": "code",
   "execution_count": 5,
   "metadata": {},
   "outputs": [],
   "source": [
    "start_date = datetime(2018, 9, 12)\n",
    "end_date   = datetime(2018, 9, 14)"
   ]
  },
  {
   "cell_type": "code",
   "execution_count": 15,
   "metadata": {},
   "outputs": [
    {
     "name": "stderr",
     "output_type": "stream",
     "text": [
      "/afs/crc.nd.edu/user/s/swang18/.conda/envs/cfog/lib/python3.8/site-packages/siphon/simplewebservice/igra2.py:397: UserWarning: Pandas doesn't allow columns to be created via a new attribute name - see https://pandas.pydata.org/pandas-docs/stable/indexing.html#attribute-access\n",
      "  df.units = {'etime': 'second',\n",
      "/afs/crc.nd.edu/user/s/swang18/.conda/envs/cfog/lib/python3.8/site-packages/siphon/simplewebservice/igra2.py:435: UserWarning: Pandas doesn't allow columns to be created via a new attribute name - see https://pandas.pydata.org/pandas-docs/stable/indexing.html#attribute-access\n",
      "  df.units = {'release_time': 'second',\n"
     ]
    }
   ],
   "source": [
    "site_id_list = ['CAM00071802']\n",
    "data = igra2_loader.request_data(site_id = site_id_list[0], \n",
    "                                 time = [start_date, end_date])"
   ]
  },
  {
   "cell_type": "code",
   "execution_count": 14,
   "metadata": {},
   "outputs": [
    {
     "data": {
      "text/html": [
       "<div>\n",
       "<style scoped>\n",
       "    .dataframe tbody tr th:only-of-type {\n",
       "        vertical-align: middle;\n",
       "    }\n",
       "\n",
       "    .dataframe tbody tr th {\n",
       "        vertical-align: top;\n",
       "    }\n",
       "\n",
       "    .dataframe thead th {\n",
       "        text-align: right;\n",
       "    }\n",
       "</style>\n",
       "<table border=\"1\" class=\"dataframe\">\n",
       "  <thead>\n",
       "    <tr style=\"text-align: right;\">\n",
       "      <th></th>\n",
       "      <th>site_id</th>\n",
       "      <th>year</th>\n",
       "      <th>month</th>\n",
       "      <th>day</th>\n",
       "      <th>hour</th>\n",
       "      <th>release_time</th>\n",
       "      <th>number_levels</th>\n",
       "      <th>pressure_source_code</th>\n",
       "      <th>non_pressure_source_code</th>\n",
       "      <th>latitude</th>\n",
       "      <th>longitude</th>\n",
       "      <th>date</th>\n",
       "    </tr>\n",
       "  </thead>\n",
       "  <tbody>\n",
       "    <tr>\n",
       "      <th>0</th>\n",
       "      <td>CAM00071802</td>\n",
       "      <td>2018</td>\n",
       "      <td>9</td>\n",
       "      <td>12</td>\n",
       "      <td>0</td>\n",
       "      <td>9060</td>\n",
       "      <td>104</td>\n",
       "      <td>ncdc-gts</td>\n",
       "      <td>ncdc-gts</td>\n",
       "      <td>47.5167</td>\n",
       "      <td>-52.7833</td>\n",
       "      <td>2018-09-12 00:00:00</td>\n",
       "    </tr>\n",
       "    <tr>\n",
       "      <th>1</th>\n",
       "      <td>CAM00071802</td>\n",
       "      <td>2018</td>\n",
       "      <td>9</td>\n",
       "      <td>12</td>\n",
       "      <td>12</td>\n",
       "      <td>4260</td>\n",
       "      <td>101</td>\n",
       "      <td>ncdc-gts</td>\n",
       "      <td>ncdc-gts</td>\n",
       "      <td>47.5167</td>\n",
       "      <td>-52.7833</td>\n",
       "      <td>2018-09-12 12:00:00</td>\n",
       "    </tr>\n",
       "    <tr>\n",
       "      <th>2</th>\n",
       "      <td>CAM00071802</td>\n",
       "      <td>2018</td>\n",
       "      <td>9</td>\n",
       "      <td>13</td>\n",
       "      <td>0</td>\n",
       "      <td>9060</td>\n",
       "      <td>103</td>\n",
       "      <td>ncdc-gts</td>\n",
       "      <td>ncdc-gts</td>\n",
       "      <td>47.5167</td>\n",
       "      <td>-52.7833</td>\n",
       "      <td>2018-09-13 00:00:00</td>\n",
       "    </tr>\n",
       "    <tr>\n",
       "      <th>3</th>\n",
       "      <td>CAM00071802</td>\n",
       "      <td>2018</td>\n",
       "      <td>9</td>\n",
       "      <td>13</td>\n",
       "      <td>12</td>\n",
       "      <td>4260</td>\n",
       "      <td>109</td>\n",
       "      <td>ncdc-gts</td>\n",
       "      <td>ncdc-gts</td>\n",
       "      <td>47.5167</td>\n",
       "      <td>-52.7833</td>\n",
       "      <td>2018-09-13 12:00:00</td>\n",
       "    </tr>\n",
       "    <tr>\n",
       "      <th>4</th>\n",
       "      <td>CAM00071802</td>\n",
       "      <td>2018</td>\n",
       "      <td>9</td>\n",
       "      <td>14</td>\n",
       "      <td>0</td>\n",
       "      <td>9060</td>\n",
       "      <td>100</td>\n",
       "      <td>ncdc-gts</td>\n",
       "      <td>ncdc-gts</td>\n",
       "      <td>47.5167</td>\n",
       "      <td>-52.7833</td>\n",
       "      <td>2018-09-14 00:00:00</td>\n",
       "    </tr>\n",
       "  </tbody>\n",
       "</table>\n",
       "</div>"
      ],
      "text/plain": [
       "       site_id  year  month  day  hour  release_time  number_levels  \\\n",
       "0  CAM00071802  2018      9   12     0          9060            104   \n",
       "1  CAM00071802  2018      9   12    12          4260            101   \n",
       "2  CAM00071802  2018      9   13     0          9060            103   \n",
       "3  CAM00071802  2018      9   13    12          4260            109   \n",
       "4  CAM00071802  2018      9   14     0          9060            100   \n",
       "\n",
       "  pressure_source_code non_pressure_source_code  latitude  longitude  \\\n",
       "0             ncdc-gts                 ncdc-gts   47.5167   -52.7833   \n",
       "1             ncdc-gts                 ncdc-gts   47.5167   -52.7833   \n",
       "2             ncdc-gts                 ncdc-gts   47.5167   -52.7833   \n",
       "3             ncdc-gts                 ncdc-gts   47.5167   -52.7833   \n",
       "4             ncdc-gts                 ncdc-gts   47.5167   -52.7833   \n",
       "\n",
       "                 date  \n",
       "0 2018-09-12 00:00:00  \n",
       "1 2018-09-12 12:00:00  \n",
       "2 2018-09-13 00:00:00  \n",
       "3 2018-09-13 12:00:00  \n",
       "4 2018-09-14 00:00:00  "
      ]
     },
     "execution_count": 14,
     "metadata": {},
     "output_type": "execute_result"
    }
   ],
   "source": [
    "data[1]"
   ]
  },
  {
   "cell_type": "code",
   "execution_count": 27,
   "metadata": {},
   "outputs": [
    {
     "data": {
      "text/html": [
       "<div>\n",
       "<style scoped>\n",
       "    .dataframe tbody tr th:only-of-type {\n",
       "        vertical-align: middle;\n",
       "    }\n",
       "\n",
       "    .dataframe tbody tr th {\n",
       "        vertical-align: top;\n",
       "    }\n",
       "\n",
       "    .dataframe thead th {\n",
       "        text-align: right;\n",
       "    }\n",
       "</style>\n",
       "<table border=\"1\" class=\"dataframe\">\n",
       "  <thead>\n",
       "    <tr style=\"text-align: right;\">\n",
       "      <th></th>\n",
       "      <th>lvltyp1</th>\n",
       "      <th>lvltyp2</th>\n",
       "      <th>etime</th>\n",
       "      <th>pressure</th>\n",
       "      <th>pflag</th>\n",
       "      <th>height</th>\n",
       "      <th>zflag</th>\n",
       "      <th>temperature</th>\n",
       "      <th>tflag</th>\n",
       "      <th>relative_humidity</th>\n",
       "      <th>direction</th>\n",
       "      <th>speed</th>\n",
       "      <th>date</th>\n",
       "      <th>u_wind</th>\n",
       "      <th>v_wind</th>\n",
       "      <th>dewpoint</th>\n",
       "    </tr>\n",
       "  </thead>\n",
       "  <tbody>\n",
       "    <tr>\n",
       "      <th>0</th>\n",
       "      <td>2</td>\n",
       "      <td>1</td>\n",
       "      <td>NaN</td>\n",
       "      <td>1018.0</td>\n",
       "      <td>2</td>\n",
       "      <td>NaN</td>\n",
       "      <td>0</td>\n",
       "      <td>13.2</td>\n",
       "      <td>2</td>\n",
       "      <td>NaN</td>\n",
       "      <td>245.0</td>\n",
       "      <td>2.1</td>\n",
       "      <td>2018-09-12</td>\n",
       "      <td>1.9</td>\n",
       "      <td>0.9</td>\n",
       "      <td>9.2</td>\n",
       "    </tr>\n",
       "    <tr>\n",
       "      <th>1</th>\n",
       "      <td>2</td>\n",
       "      <td>0</td>\n",
       "      <td>NaN</td>\n",
       "      <td>1009.0</td>\n",
       "      <td>2</td>\n",
       "      <td>NaN</td>\n",
       "      <td>0</td>\n",
       "      <td>12.8</td>\n",
       "      <td>2</td>\n",
       "      <td>NaN</td>\n",
       "      <td>NaN</td>\n",
       "      <td>NaN</td>\n",
       "      <td>2018-09-12</td>\n",
       "      <td>NaN</td>\n",
       "      <td>NaN</td>\n",
       "      <td>8.0</td>\n",
       "    </tr>\n",
       "    <tr>\n",
       "      <th>2</th>\n",
       "      <td>1</td>\n",
       "      <td>0</td>\n",
       "      <td>NaN</td>\n",
       "      <td>1000.0</td>\n",
       "      <td>0</td>\n",
       "      <td>240.0</td>\n",
       "      <td>2</td>\n",
       "      <td>12.2</td>\n",
       "      <td>2</td>\n",
       "      <td>NaN</td>\n",
       "      <td>245.0</td>\n",
       "      <td>6.7</td>\n",
       "      <td>2018-09-12</td>\n",
       "      <td>6.1</td>\n",
       "      <td>2.8</td>\n",
       "      <td>7.8</td>\n",
       "    </tr>\n",
       "    <tr>\n",
       "      <th>3</th>\n",
       "      <td>2</td>\n",
       "      <td>0</td>\n",
       "      <td>NaN</td>\n",
       "      <td>986.0</td>\n",
       "      <td>0</td>\n",
       "      <td>NaN</td>\n",
       "      <td>0</td>\n",
       "      <td>11.4</td>\n",
       "      <td>2</td>\n",
       "      <td>NaN</td>\n",
       "      <td>NaN</td>\n",
       "      <td>NaN</td>\n",
       "      <td>2018-09-12</td>\n",
       "      <td>NaN</td>\n",
       "      <td>NaN</td>\n",
       "      <td>7.7</td>\n",
       "    </tr>\n",
       "    <tr>\n",
       "      <th>4</th>\n",
       "      <td>2</td>\n",
       "      <td>0</td>\n",
       "      <td>NaN</td>\n",
       "      <td>957.0</td>\n",
       "      <td>0</td>\n",
       "      <td>NaN</td>\n",
       "      <td>0</td>\n",
       "      <td>10.2</td>\n",
       "      <td>2</td>\n",
       "      <td>NaN</td>\n",
       "      <td>NaN</td>\n",
       "      <td>NaN</td>\n",
       "      <td>2018-09-12</td>\n",
       "      <td>NaN</td>\n",
       "      <td>NaN</td>\n",
       "      <td>0.2</td>\n",
       "    </tr>\n",
       "    <tr>\n",
       "      <th>...</th>\n",
       "      <td>...</td>\n",
       "      <td>...</td>\n",
       "      <td>...</td>\n",
       "      <td>...</td>\n",
       "      <td>...</td>\n",
       "      <td>...</td>\n",
       "      <td>...</td>\n",
       "      <td>...</td>\n",
       "      <td>...</td>\n",
       "      <td>...</td>\n",
       "      <td>...</td>\n",
       "      <td>...</td>\n",
       "      <td>...</td>\n",
       "      <td>...</td>\n",
       "      <td>...</td>\n",
       "      <td>...</td>\n",
       "    </tr>\n",
       "    <tr>\n",
       "      <th>512</th>\n",
       "      <td>3</td>\n",
       "      <td>0</td>\n",
       "      <td>NaN</td>\n",
       "      <td>NaN</td>\n",
       "      <td>0</td>\n",
       "      <td>32700.0</td>\n",
       "      <td>0</td>\n",
       "      <td>NaN</td>\n",
       "      <td>0</td>\n",
       "      <td>NaN</td>\n",
       "      <td>360.0</td>\n",
       "      <td>11.8</td>\n",
       "      <td>2018-09-14</td>\n",
       "      <td>0.0</td>\n",
       "      <td>-11.8</td>\n",
       "      <td>NaN</td>\n",
       "    </tr>\n",
       "    <tr>\n",
       "      <th>513</th>\n",
       "      <td>3</td>\n",
       "      <td>0</td>\n",
       "      <td>NaN</td>\n",
       "      <td>NaN</td>\n",
       "      <td>0</td>\n",
       "      <td>33000.0</td>\n",
       "      <td>0</td>\n",
       "      <td>NaN</td>\n",
       "      <td>0</td>\n",
       "      <td>NaN</td>\n",
       "      <td>25.0</td>\n",
       "      <td>5.1</td>\n",
       "      <td>2018-09-14</td>\n",
       "      <td>-2.2</td>\n",
       "      <td>-4.6</td>\n",
       "      <td>NaN</td>\n",
       "    </tr>\n",
       "    <tr>\n",
       "      <th>514</th>\n",
       "      <td>3</td>\n",
       "      <td>0</td>\n",
       "      <td>NaN</td>\n",
       "      <td>NaN</td>\n",
       "      <td>0</td>\n",
       "      <td>33600.0</td>\n",
       "      <td>0</td>\n",
       "      <td>NaN</td>\n",
       "      <td>0</td>\n",
       "      <td>NaN</td>\n",
       "      <td>345.0</td>\n",
       "      <td>4.1</td>\n",
       "      <td>2018-09-14</td>\n",
       "      <td>1.1</td>\n",
       "      <td>-4.0</td>\n",
       "      <td>NaN</td>\n",
       "    </tr>\n",
       "    <tr>\n",
       "      <th>515</th>\n",
       "      <td>3</td>\n",
       "      <td>0</td>\n",
       "      <td>NaN</td>\n",
       "      <td>NaN</td>\n",
       "      <td>0</td>\n",
       "      <td>36300.0</td>\n",
       "      <td>0</td>\n",
       "      <td>NaN</td>\n",
       "      <td>0</td>\n",
       "      <td>NaN</td>\n",
       "      <td>290.0</td>\n",
       "      <td>3.1</td>\n",
       "      <td>2018-09-14</td>\n",
       "      <td>2.9</td>\n",
       "      <td>-1.1</td>\n",
       "      <td>NaN</td>\n",
       "    </tr>\n",
       "    <tr>\n",
       "      <th>516</th>\n",
       "      <td>3</td>\n",
       "      <td>0</td>\n",
       "      <td>NaN</td>\n",
       "      <td>NaN</td>\n",
       "      <td>0</td>\n",
       "      <td>36900.0</td>\n",
       "      <td>0</td>\n",
       "      <td>NaN</td>\n",
       "      <td>0</td>\n",
       "      <td>NaN</td>\n",
       "      <td>340.0</td>\n",
       "      <td>8.2</td>\n",
       "      <td>2018-09-14</td>\n",
       "      <td>2.8</td>\n",
       "      <td>-7.7</td>\n",
       "      <td>NaN</td>\n",
       "    </tr>\n",
       "  </tbody>\n",
       "</table>\n",
       "<p>517 rows × 16 columns</p>\n",
       "</div>"
      ],
      "text/plain": [
       "     lvltyp1  lvltyp2  etime  pressure  pflag   height  zflag  temperature  \\\n",
       "0          2        1    NaN    1018.0      2      NaN      0         13.2   \n",
       "1          2        0    NaN    1009.0      2      NaN      0         12.8   \n",
       "2          1        0    NaN    1000.0      0    240.0      2         12.2   \n",
       "3          2        0    NaN     986.0      0      NaN      0         11.4   \n",
       "4          2        0    NaN     957.0      0      NaN      0         10.2   \n",
       "..       ...      ...    ...       ...    ...      ...    ...          ...   \n",
       "512        3        0    NaN       NaN      0  32700.0      0          NaN   \n",
       "513        3        0    NaN       NaN      0  33000.0      0          NaN   \n",
       "514        3        0    NaN       NaN      0  33600.0      0          NaN   \n",
       "515        3        0    NaN       NaN      0  36300.0      0          NaN   \n",
       "516        3        0    NaN       NaN      0  36900.0      0          NaN   \n",
       "\n",
       "     tflag  relative_humidity  direction  speed       date  u_wind  v_wind  \\\n",
       "0        2                NaN      245.0    2.1 2018-09-12     1.9     0.9   \n",
       "1        2                NaN        NaN    NaN 2018-09-12     NaN     NaN   \n",
       "2        2                NaN      245.0    6.7 2018-09-12     6.1     2.8   \n",
       "3        2                NaN        NaN    NaN 2018-09-12     NaN     NaN   \n",
       "4        2                NaN        NaN    NaN 2018-09-12     NaN     NaN   \n",
       "..     ...                ...        ...    ...        ...     ...     ...   \n",
       "512      0                NaN      360.0   11.8 2018-09-14     0.0   -11.8   \n",
       "513      0                NaN       25.0    5.1 2018-09-14    -2.2    -4.6   \n",
       "514      0                NaN      345.0    4.1 2018-09-14     1.1    -4.0   \n",
       "515      0                NaN      290.0    3.1 2018-09-14     2.9    -1.1   \n",
       "516      0                NaN      340.0    8.2 2018-09-14     2.8    -7.7   \n",
       "\n",
       "     dewpoint  \n",
       "0         9.2  \n",
       "1         8.0  \n",
       "2         7.8  \n",
       "3         7.7  \n",
       "4         0.2  \n",
       "..        ...  \n",
       "512       NaN  \n",
       "513       NaN  \n",
       "514       NaN  \n",
       "515       NaN  \n",
       "516       NaN  \n",
       "\n",
       "[517 rows x 16 columns]"
      ]
     },
     "execution_count": 27,
     "metadata": {},
     "output_type": "execute_result"
    }
   ],
   "source": [
    "data[0]"
   ]
  },
  {
   "cell_type": "code",
   "execution_count": 26,
   "metadata": {},
   "outputs": [],
   "source": [
    "dates = data[0]['date'].unique()"
   ]
  },
  {
   "cell_type": "code",
   "execution_count": 32,
   "metadata": {},
   "outputs": [
    {
     "data": {
      "image/png": "[encoded data removed]",
      "text/plain": [
       "<Figure size 432x288 with 1 Axes>"
      ]
     },
     "metadata": {
      "needs_background": "light"
     },
     "output_type": "display_data"
    }
   ],
   "source": [
    "ax = data[0][data[0]['date']==dates[0]].plot(x='temperature', y='pressure', label='temperature')\n",
    "ax = data[0][data[0]['date']==dates[0]].plot(x='dewpoint', y='pressure', ax=ax, label='dewpoint')\n",
    "ax.invert_yaxis()"
   ]
  },
  {
   "cell_type": "code",
   "execution_count": 33,
   "metadata": {},
   "outputs": [
    {
     "data": {
      "image/png": "[encoded data removed]",
      "text/plain": [
       "<Figure size 432x288 with 1 Axes>"
      ]
     },
     "metadata": {
      "needs_background": "light"
     },
     "output_type": "display_data"
    }
   ],
   "source": [
    "ax = data[0][data[0]['date']==dates[1]].plot(x='temperature', y='pressure', label='temperature')\n",
    "ax = data[0][data[0]['date']==dates[1]].plot(x='dewpoint', y='pressure', ax=ax, label='dewpoint')\n",
    "ax.invert_yaxis()"
   ]
  },
  {
   "cell_type": "code",
   "execution_count": 34,
   "metadata": {},
   "outputs": [
    {
     "data": {
      "image/png": "[encoded data removed]",
      "text/plain": [
       "<Figure size 432x288 with 1 Axes>"
      ]
     },
     "metadata": {
      "needs_background": "light"
     },
     "output_type": "display_data"
    }
   ],
   "source": [
    "ax = data[0][data[0]['date']==dates[2]].plot(x='temperature', y='pressure', label='temperature')\n",
    "ax = data[0][data[0]['date']==dates[2]].plot(x='dewpoint', y='pressure', ax=ax, label='dewpoint')\n",
    "ax.invert_yaxis()"
   ]
  },
  {
   "cell_type": "code",
   "execution_count": 35,
   "metadata": {},
   "outputs": [
    {
     "data": {
      "image/png": "[encoded data removed]",
      "text/plain": [
       "<Figure size 432x288 with 1 Axes>"
      ]
     },
     "metadata": {
      "needs_background": "light"
     },
     "output_type": "display_data"
    }
   ],
   "source": [
    "ax = data[0][data[0]['date']==dates[3]].plot(x='temperature', y='pressure', label='temperature')\n",
    "ax = data[0][data[0]['date']==dates[3]].plot(x='dewpoint', y='pressure', ax=ax, label='dewpoint')\n",
    "ax.invert_yaxis()"
   ]
  },
  {
   "cell_type": "code",
   "execution_count": null,
   "metadata": {},
   "outputs": [],
   "source": []
  }
 ],
 "metadata": {
  "kernelspec": {
   "display_name": "Python 3",
   "language": "python",
   "name": "python3"
  },
  "language_info": {
   "codemirror_mode": {
    "name": "ipython",
    "version": 3
   },
   "file_extension": ".py",
   "mimetype": "text/x-python",
   "name": "python",
   "nbconvert_exporter": "python",
   "pygments_lexer": "ipython3",
   "version": "3.8.2"
  }
 },
 "nbformat": 4,
 "nbformat_minor": 4
}
